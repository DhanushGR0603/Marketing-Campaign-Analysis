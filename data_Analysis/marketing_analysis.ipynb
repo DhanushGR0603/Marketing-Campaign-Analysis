import pandas as pd
import matplotlib.pyplot as plt
import seaborn as sns

 
df = pd.read_csv('../data/marketing_campaign.csv')
 
print(" Data Snapshot:")
print(df.head())

 
df['CTR (%)'] = (df['Clicks'] / df['Impressions']) * 100
df['Conversion Rate (%)'] = (df['Conversions'] / df['Clicks']) * 100
df['CAC ($)'] = df['Spend'] / df['Conversions']
df['ROI (%)'] = ((df['Revenue'] - df['Spend']) / df['Spend']) * 100

 
print("\n📈 KPI Summary:")
print(df[['Channel', 'CTR (%)', 'Conversion Rate (%)', 'CAC ($)', 'ROI (%)']].groupby(df['Channel']).mean())

 
plt.figure(figsize=(8, 5))
sns.barplot(data=df, x='Channel', y='CTR (%)', ci=None)
plt.title('CTR (%) by Marketing Channel')
plt.ylabel('Click-Through Rate (%)')
plt.xlabel('Channel')
plt.tight_layout()
plt.show()

 
plt.figure(figsize=(8, 5))
sns.barplot(data=df, x='Channel', y='Conversion Rate (%)', ci=None)
plt.title('Conversion Rate (%) by Marketing Channel')
plt.ylabel('Conversion Rate (%)')
plt.xlabel('Channel')
plt.tight_layout()
plt.show()

 
plt.figure(figsize=(8, 5))
sns.barplot(data=df, x='Channel', y='ROI (%)', ci=None, palette="Set2")
plt.title('ROI (%) by Marketing Channel')
plt.ylabel('ROI (%)')
plt.xlabel('Channel')
plt.tight_layout()
plt.show()

 
df.to_excel('../data/marketing_campaign_analyzed.xlsx', index=False)
print("\n Exported analyzed data to Excel.")
